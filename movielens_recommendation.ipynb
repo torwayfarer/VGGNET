{
  "nbformat": 4,
  "nbformat_minor": 0,
  "metadata": {
    "kernelspec": {
      "name": "python3",
      "display_name": "Python 3"
    },
    "language_info": {
      "codemirror_mode": {
        "name": "ipython",
        "version": 3
      },
      "file_extension": ".py",
      "mimetype": "text/x-python",
      "name": "python",
      "nbconvert_exporter": "python",
      "pygments_lexer": "ipython3",
      "version": "3.7.1"
    },
    "colab": {
      "name": "Activity 4.ipynb",
      "provenance": [],
      "collapsed_sections": []
    },
    "accelerator": "GPU"
  },
  "cells": [
    {
      "cell_type": "markdown",
      "metadata": {
        "id": "re1qIJYAAVsE",
        "colab_type": "text"
      },
      "source": [
        "# Activity 4. MNIST Hand-written digit classification\n",
        "\n",
        "### **2019/11/21 CoE 202 Fall**<br/>\n",
        "\n",
        "**Professor: Yong Hoon, Lee**</br>\n",
        "\n",
        "**TA:Beomgu Kang, Seungjun moon**"
      ]
    },
    {
      "cell_type": "code",
      "metadata": {
        "id": "Iii6-C0YAVsG",
        "colab_type": "code",
        "colab": {
          "base_uri": "https://localhost:8080/",
          "height": 63
        },
        "outputId": "835013a8-61f7-41e8-87e1-1f28604c8e5a"
      },
      "source": [
        "from __future__ import print_function\n",
        "from collections import namedtuple\n",
        "from functools import partial\n",
        "\n",
        "import numpy as np\n",
        "import tensorflow as tf\n",
        "import matplotlib.pyplot as plt\n",
        "import time\n",
        "\n",
        "from tensorflow.examples.tutorials.mnist import input_data\n",
        "from tensorflow.python.training import moving_averages\n",
        "\n",
        "tf.logging.set_verbosity(tf.logging.ERROR)"
      ],
      "execution_count": 1,
      "outputs": [
        {
          "output_type": "display_data",
          "data": {
            "text/html": [
              "<p style=\"color: red;\">\n",
              "The default version of TensorFlow in Colab will soon switch to TensorFlow 2.x.<br>\n",
              "We recommend you <a href=\"https://www.tensorflow.org/guide/migrate\" target=\"_blank\">upgrade</a> now \n",
              "or ensure your notebook will continue to use TensorFlow 1.x via the <code>%tensorflow_version 1.x</code> magic:\n",
              "<a href=\"https://colab.research.google.com/notebooks/tensorflow_version.ipynb\" target=\"_blank\">more info</a>.</p>\n"
            ],
            "text/plain": [
              "<IPython.core.display.HTML object>"
            ]
          },
          "metadata": {
            "tags": []
          }
        }
      ]
    },
    {
      "cell_type": "markdown",
      "metadata": {
        "id": "JF-EbqXXAVsI",
        "colab_type": "text"
      },
      "source": [
        "## 1. Prepare the data\n",
        "### <a href=http://yann.lecun.com/exdb/mnist/>MNIST dataset</a>\n",
        "The MNIST has a training set of 55,000 examples, a validation set of 5,000 examples and a test set of 10,000 examples."
      ]
    },
    {
      "cell_type": "code",
      "metadata": {
        "id": "MmcTChfSAVsJ",
        "colab_type": "code",
        "outputId": "b2079412-d1db-4f57-c607-21c5717d40c4",
        "colab": {
          "base_uri": "https://localhost:8080/",
          "height": 153
        }
      },
      "source": [
        "mnist = input_data.read_data_sets('./data/', one_hot=True)"
      ],
      "execution_count": 2,
      "outputs": [
        {
          "output_type": "stream",
          "text": [
            "Successfully downloaded train-images-idx3-ubyte.gz 9912422 bytes.\n",
            "Extracting ./data/train-images-idx3-ubyte.gz\n",
            "Successfully downloaded train-labels-idx1-ubyte.gz 28881 bytes.\n",
            "Extracting ./data/train-labels-idx1-ubyte.gz\n",
            "Successfully downloaded t10k-images-idx3-ubyte.gz 1648877 bytes.\n",
            "Extracting ./data/t10k-images-idx3-ubyte.gz\n",
            "Successfully downloaded t10k-labels-idx1-ubyte.gz 4542 bytes.\n",
            "Extracting ./data/t10k-labels-idx1-ubyte.gz\n"
          ],
          "name": "stdout"
        }
      ]
    },
    {
      "cell_type": "markdown",
      "metadata": {
        "id": "PvJbNDKuAVsL",
        "colab_type": "text"
      },
      "source": [
        "Load the training dataset"
      ]
    },
    {
      "cell_type": "code",
      "metadata": {
        "id": "a0lZ8NBcAVsL",
        "colab_type": "code",
        "colab": {}
      },
      "source": [
        "train_images = mnist.train.images[:1000]\n",
        "train_labels = mnist.train.labels[:1000]\n",
        "train_images = train_images.reshape([-1, 28, 28, 1])"
      ],
      "execution_count": 0,
      "outputs": []
    },
    {
      "cell_type": "markdown",
      "metadata": {
        "id": "vDWxwqUFAVsN",
        "colab_type": "text"
      },
      "source": [
        "Load the validation sets"
      ]
    },
    {
      "cell_type": "code",
      "metadata": {
        "id": "MBvaFbp3AVsO",
        "colab_type": "code",
        "colab": {}
      },
      "source": [
        "val_images = mnist.validation.images\n",
        "val_labels = mnist.validation.labels\n",
        "val_images = val_images.reshape([-1, 28, 28, 1])"
      ],
      "execution_count": 0,
      "outputs": []
    },
    {
      "cell_type": "markdown",
      "metadata": {
        "id": "hCSYM9SrAVsP",
        "colab_type": "text"
      },
      "source": [
        "Plot the 1st hand-written digit and its one-hot label"
      ]
    },
    {
      "cell_type": "code",
      "metadata": {
        "id": "0FeHejL9AVsQ",
        "colab_type": "code",
        "outputId": "b7aba754-1cbe-4154-b02a-647e68f23c04",
        "colab": {
          "base_uri": "https://localhost:8080/",
          "height": 316
        }
      },
      "source": [
        "plt.imshow(train_images[0,:,:,0], cmap='Greys')\n",
        "print(\"\\nOne-hot labels for this image:\")\n",
        "print(train_labels[0])"
      ],
      "execution_count": 5,
      "outputs": [
        {
          "output_type": "stream",
          "text": [
            "\n",
            "One-hot labels for this image:\n",
            "[0. 0. 0. 0. 0. 0. 0. 1. 0. 0.]\n"
          ],
          "name": "stdout"
        },
        {
          "output_type": "display_data",
          "data": {
            "image/png": "[encoded data removed]",
            "text/plain": [
              "<Figure size 432x288 with 1 Axes>"
            ]
          },
          "metadata": {
            "tags": []
          }
        }
      ]
    },
    {
      "cell_type": "markdown",
      "metadata": {
        "id": "PXMfVOQuAVsS",
        "colab_type": "text"
      },
      "source": [
        "## 2. Build a graph for VGGNet (Oxford, 2014)\n",
        "Very Deep Convolutional Networks for Large-scale image recognition\n",
        "https://arxiv.org/abs/1409.1556\n",
        "\n",
        "<img src=\"img/fig2.png\">"
      ]
    },
    {
      "cell_type": "markdown",
      "metadata": {
        "id": "LT8_jNCpAVsT",
        "colab_type": "text"
      },
      "source": [
        "### Set hyperparameters\n",
        "- ***log_dir*** : Directory name to save models\n",
        "- ***n_epochs*** : Maximun training epoch\n",
        "- ***n_outputs*** : The number of classes for labels\n",
        "- ***init_lr*** : Learning rate for gradient descent\n",
        "- ***l2_lambda*** : regularization parameter\n",
        "- ***batch_size*** : The number of images to update paramerters once"
      ]
    },
    {
      "cell_type": "code",
      "metadata": {
        "id": "vlE-h0yVAVsU",
        "colab_type": "code",
        "colab": {}
      },
      "source": [
        "log_dir = 'logs/'\n",
        "n_epochs = 20\n",
        "n_outputs = 10\n",
        "init_lr = 0.01\n",
        "batch_size = 100\n",
        "l2_lambda = 0.0001"
      ],
      "execution_count": 0,
      "outputs": []
    },
    {
      "cell_type": "markdown",
      "metadata": {
        "id": "LOUINJj-AVsV",
        "colab_type": "text"
      },
      "source": [
        "### Placeholder for learning rate, input images and labels"
      ]
    },
    {
      "cell_type": "code",
      "metadata": {
        "id": "5aA8tlbnAVsW",
        "colab_type": "code",
        "colab": {}
      },
      "source": [
        "lrn_rate = tf.placeholder(tf.float32, shape=(), name='lrn_rate')\n",
        "images = tf.placeholder(tf.float32, shape=(None, 28, 28, 1), name='images')\n",
        "labels = tf.placeholder(tf.int32, shape=(None), name='labels')"
      ],
      "execution_count": 0,
      "outputs": []
    },
    {
      "cell_type": "code",
      "metadata": {
        "id": "M1FekGzAAVsY",
        "colab_type": "code",
        "colab": {}
      },
      "source": [
        "def vggnet(images, labels=None):\n",
        "    vggnet_conv = partial(tf.layers.conv2d, kernel_regularizer=tf.contrib.layers.l2_regularizer(l2_lambda), padding=\"SAME\")\n",
        "    \n",
        "    ''' 1st conv. '''\n",
        "    x = vggnet_conv(images, filters=16, kernel_size=7, strides=[1,1])  # 7x7 filter, # of filters: 16, stride: 1\n",
        "    #print(x)\n",
        "    x = tf.layers.batch_normalization(x, name='bn1')                   # batch normalization\n",
        "    x = tf.nn.relu(x)                                                  # ReLU activation\n",
        "    \n",
        "    ''' 2nd conv.'''\n",
        "    x = vggnet_conv(x, filters=16, kernel_size=3, strides=[1,1])       # 3x3 filter, # of filters: 16, stride 1\n",
        "    x = tf.layers.batch_normalization(x, name='bn2')                   # batch normalization\n",
        "    x = tf.nn.relu(x)                                                  # ReLU activation\n",
        "    x = tf.layers.average_pooling2d(x, pool_size=[2,2], strides=[2,2]) # 2x2 average pooling, stride: 2\n",
        "    \n",
        "    ''' 3rd conv. '''\n",
        "    x = vggnet_conv(x, filters=32, kernel_size=3, strides=[1, 1])      # 3x3 filter, # of filters: 32, stride: 1\n",
        "    x = tf.layers.batch_normalization(x, name='bn3')                   # batch normalization\n",
        "    x = tf.nn.relu(x)                                                  # ReLU activation\n",
        "    \n",
        "    ''' 4th conv. '''\n",
        "    x = vggnet_conv(x, filters=32, kernel_size=3, strides=[1,1])       # 3x3 filter, # of filters: 32, stride 1\n",
        "    x = tf.layers.batch_normalization(x, name='bn4')                   # batch normalization\n",
        "    x = tf.nn.relu(x)                                                  # ReLU activation\n",
        "    x = tf.layers.average_pooling2d(x, pool_size=[2,2], strides=[2,2]) # 2x2 average pooling stride 2\n",
        "    \n",
        "    ''' 5th conv. '''\n",
        "    x = vggnet_conv(x, filters=64, kernel_size=3, strides=[1,1])       # 3x3 filter, # of filters: 64, stride: 1\n",
        "    x = tf.layers.batch_normalization(x, name='bn5')                   # batch normalization\n",
        "    x = tf.nn.relu(x)                                                  # ReLU activation\n",
        "    \n",
        "    ''' 6th conv. '''\n",
        "    x = vggnet_conv(x, filters=64, kernel_size=3, strides=[1,1])       # 3x3 filter, # of filters: 64, stride: 1\n",
        "    x = tf.layers.batch_normalization(x, name='bn6')                   # batch normalization\n",
        "    x = tf.nn.relu(x)                                                  # ReLU activation\n",
        "    \n",
        "    img_feat = tf.reduce_mean(x, [1, 2])                               # Global average pooling\n",
        "    return img_feat"
      ],
      "execution_count": 0,
      "outputs": []
    },
    {
      "cell_type": "code",
      "metadata": {
        "id": "cZ2O3pJlBRDq",
        "colab_type": "code",
        "colab": {}
      },
      "source": [
        "def simple_network(images, labels=None):\n",
        "    vggnet_conv = partial(tf.layers.conv2d, kernel_regularizer=tf.contrib.layers.l2_regularizer(l2_lambda), padding=\"SAME\")\n",
        "    ''' 1st conv. '''\n",
        "    x = vggnet_conv(images, filters=16, kernel_size=3, strides=[1,1])  # 3x3 filter, # of filters: 16, stride: 1\n",
        "    x = tf.layers.batch_normalization(x, name='bn1')                   # batch normalization\n",
        "    x = tf.nn.relu(x)                                                  # ReLU activation\n",
        "    ''' 2nd conv.'''\n",
        "    x2 = vggnet_conv(x, filters=16, kernel_size=3, strides=[1,1])       # 3x3 filter, # of filters: 16, stride 1\n",
        "    x2 = tf.layers.batch_normalization(x2, name='bn2')                   # batch normalization\n",
        "    x2 = tf.nn.relu(x2)                                                  # ReLU activation\n",
        "    x2 = tf.layers.average_pooling2d(x2, pool_size=[2,2], strides=[2,2]) # 2x2 average pooling, stride: 2\n",
        "    ''' 3rd conv. '''\n",
        "    x1 = vggnet_conv(x, filters=16, kernel_size=3, strides=[2, 2])      # 3x3 filter, # of filters: 32, stride: 2\n",
        "    x1 = tf.layers.batch_normalization(x1, name='bn3')                   # batch normalization\n",
        "    x1 = tf.nn.relu(x1)                                                  # ReLU activation\n",
        "    \n",
        "    #Elementwise-sum: tf.add()\n",
        "    x3=tf.add(x1,x2)\n",
        "\n",
        "    ''' 4th conv. '''\n",
        "    x5 = vggnet_conv(x3, filters=16, kernel_size=3, strides=[1,1])       # 3x3 filter, # of filters: 16, stride 1\n",
        "    x5 = tf.layers.batch_normalization(x5, name='bn4')                   # batch normalization\n",
        "    x5 = tf.nn.relu(x5)                                                  # ReLU activation\n",
        "    \n",
        "    #Concatenate: tf.concat()\n",
        "    x6=tf.concat([x3, x5], 1)\n",
        "    #x6=tf.concat([x3, x5], 0)\n",
        "\n",
        "    ''' 5th conv. '''\n",
        "    x7 = vggnet_conv(x6, filters=32, kernel_size=3, strides=[1,1])       # 3x3 filter, # of filters: 32, stride: 1\n",
        "    x7 = tf.layers.batch_normalization(x7, name='bn5')                   # batch normalization\n",
        "    x7 = tf.nn.relu(x7)                                                  # ReLU activation\n",
        "    \n",
        "    img_feat = tf.reduce_mean(x7, [1, 2])                               # Global average pooling\n",
        "    return img_feat"
      ],
      "execution_count": 0,
      "outputs": []
    },
    {
      "cell_type": "markdown",
      "metadata": {
        "id": "1Dz9BFJOAVsZ",
        "colab_type": "text"
      },
      "source": [
        "### Build a model"
      ]
    },
    {
      "cell_type": "code",
      "metadata": {
        "id": "IYp4HfqTAVsa",
        "colab_type": "code",
        "colab": {}
      },
      "source": [
        "global_step = tf.Variable(0, trainable=False)\n",
        "\n",
        "with tf.variable_scope('embed') as scope:\n",
        "  #using our simple model\n",
        "  feats = simple_network(images)\n",
        "  #feats = vggnet(images)\n",
        "\n",
        "## Reshape\n",
        "#feats = tf.reshape(feats, [batch_size, 64])\n",
        "feats = tf.reshape(feats, [batch_size, 32])\n",
        "    \n",
        "## Logits\n",
        "logits = tf.layers.dense(feats, n_outputs, kernel_initializer=tf.uniform_unit_scaling_initializer(factor=2.0), \n",
        "                                               kernel_regularizer=tf.contrib.layers.l2_regularizer(l2_lambda))\n",
        "\n",
        "## Evaluation\n",
        "correct = tf.nn.in_top_k(logits, labels, 1)\n",
        "accuracy = tf.reduce_mean(tf.cast(correct, tf.float32))\n",
        "\n",
        "## SOFTMAX\n",
        "preds = tf.nn.softmax(logits)\n",
        "\n",
        "## Cost function\n",
        "cent = tf.nn.softmax_cross_entropy_with_logits_v2(logits=logits, labels=labels)\n",
        "cost_cls = tf.reduce_mean(cent, name='cent')"
      ],
      "execution_count": 0,
      "outputs": []
    },
    {
      "cell_type": "markdown",
      "metadata": {
        "id": "Hau3QzcFAVsc",
        "colab_type": "text"
      },
      "source": [
        "### L2 regularization"
      ]
    },
    {
      "cell_type": "code",
      "metadata": {
        "id": "QkMgF0QPAVsc",
        "colab_type": "code",
        "colab": {}
      },
      "source": [
        "reg_losses = tf.get_collection(tf.GraphKeys.REGULARIZATION_LOSSES)\n",
        "cost = tf.add_n([cost_cls] + reg_losses)"
      ],
      "execution_count": 0,
      "outputs": []
    },
    {
      "cell_type": "markdown",
      "metadata": {
        "id": "dxEL6aJ7AVse",
        "colab_type": "text"
      },
      "source": [
        "### Momentum optimizer"
      ]
    },
    {
      "cell_type": "code",
      "metadata": {
        "id": "we7_C_syAVsf",
        "colab_type": "code",
        "colab": {}
      },
      "source": [
        "lr  = tf.train.exponential_decay(init_lr, global_step, 1000, 0.8, staircase = True) # learning rate decay\n",
        "optimizer = tf.train.MomentumOptimizer(lr, 0.9, use_nesterov=True)                  # Momentum optimizer\n",
        "train_op = optimizer.minimize(cost)"
      ],
      "execution_count": 0,
      "outputs": []
    },
    {
      "cell_type": "markdown",
      "metadata": {
        "id": "fBr9sjtMAVsh",
        "colab_type": "text"
      },
      "source": [
        "# 3. Train a model"
      ]
    },
    {
      "cell_type": "markdown",
      "metadata": {
        "id": "6ccD7l0eAVsh",
        "colab_type": "text"
      },
      "source": [
        "### Create a session and initialize parameters\n",
        "Tensorflow operations must be executed in the session."
      ]
    },
    {
      "cell_type": "code",
      "metadata": {
        "id": "TzF7krC8AVsi",
        "colab_type": "code",
        "colab": {}
      },
      "source": [
        "## MAKE SESSION\n",
        "sess = tf.Session()\n",
        "\n",
        "## INITIALIZE SESSION\n",
        "sess.run(tf.global_variables_initializer())"
      ],
      "execution_count": 0,
      "outputs": []
    },
    {
      "cell_type": "markdown",
      "metadata": {
        "id": "h0pe2ywLAVsk",
        "colab_type": "text"
      },
      "source": [
        "### Updates parameters with back-propagation"
      ]
    },
    {
      "cell_type": "code",
      "metadata": {
        "id": "RdNfZCvNAVsl",
        "colab_type": "code",
        "outputId": "142f1f06-f474-4cf4-8703-b632f7945031",
        "colab": {
          "base_uri": "https://localhost:8080/",
          "height": 476
        }
      },
      "source": [
        "for epoch in range(n_epochs+1):\n",
        "    for iteration in range(mnist.train.num_examples // batch_size):\n",
        "        start_time = time.time()\n",
        "        \n",
        "        X_batch, y_batch = mnist.train.next_batch(batch_size)\n",
        "        X_batch = X_batch.reshape([-1, 28, 28, 1])\n",
        "        (_, loss, loss_cls, prediction) = sess.run([train_op, cost, cost_cls, preds], \n",
        "                                                    feed_dict={images: X_batch, labels: y_batch})\n",
        "        duration = time.time() - start_time\n",
        "        sec_per_batch = float(duration)\n",
        "    \n",
        "    ## Training accuracy every one epoch\n",
        "    acc_train = accuracy.eval(session=sess, feed_dict={images: X_batch, labels: np.argmax(y_batch, axis=1)})\n",
        "    if epoch % 1 == 0:\n",
        "        print('  [*] TRAINING Iteration %d, Loss: %.4f, Acc: %.4f (duration: %.3fs)'\n",
        "                             % (epoch, loss_cls, acc_train, sec_per_batch))\n",
        "\n",
        "    ## Validation accuracy every 5 epochs\n",
        "    if epoch % 5 == 0:\n",
        "        acc_val = accuracy.eval(session=sess, feed_dict={images: val_images, labels: np.argmax(val_labels, axis=1)})\n",
        "        print('  [*] VALIDATION ACC: %.3f' % acc_val)\n",
        "\n",
        "print('Optimization done.')"
      ],
      "execution_count": 14,
      "outputs": [
        {
          "output_type": "stream",
          "text": [
            "  [*] TRAINING Iteration 0, Loss: 1.4469, Acc: 0.7200 (duration: 0.006s)\n",
            "  [*] VALIDATION ACC: 0.690\n",
            "  [*] TRAINING Iteration 1, Loss: 0.3460, Acc: 0.9100 (duration: 0.006s)\n",
            "  [*] TRAINING Iteration 2, Loss: 0.1320, Acc: 0.9700 (duration: 0.006s)\n",
            "  [*] TRAINING Iteration 3, Loss: 0.1753, Acc: 0.9900 (duration: 0.006s)\n",
            "  [*] TRAINING Iteration 4, Loss: 0.0842, Acc: 0.9700 (duration: 0.006s)\n",
            "  [*] TRAINING Iteration 5, Loss: 0.0627, Acc: 0.9900 (duration: 0.006s)\n",
            "  [*] VALIDATION ACC: 0.970\n",
            "  [*] TRAINING Iteration 6, Loss: 0.1350, Acc: 0.9800 (duration: 0.006s)\n",
            "  [*] TRAINING Iteration 7, Loss: 0.1361, Acc: 0.9500 (duration: 0.006s)\n",
            "  [*] TRAINING Iteration 8, Loss: 0.1485, Acc: 0.9800 (duration: 0.006s)\n",
            "  [*] TRAINING Iteration 9, Loss: 0.1034, Acc: 0.9600 (duration: 0.006s)\n",
            "  [*] TRAINING Iteration 10, Loss: 0.0219, Acc: 1.0000 (duration: 0.006s)\n",
            "  [*] VALIDATION ACC: 0.978\n",
            "  [*] TRAINING Iteration 11, Loss: 0.0241, Acc: 1.0000 (duration: 0.006s)\n",
            "  [*] TRAINING Iteration 12, Loss: 0.0867, Acc: 0.9900 (duration: 0.006s)\n",
            "  [*] TRAINING Iteration 13, Loss: 0.0822, Acc: 1.0000 (duration: 0.006s)\n",
            "  [*] TRAINING Iteration 14, Loss: 0.0186, Acc: 1.0000 (duration: 0.006s)\n",
            "  [*] TRAINING Iteration 15, Loss: 0.0678, Acc: 0.9900 (duration: 0.006s)\n",
            "  [*] VALIDATION ACC: 0.976\n",
            "  [*] TRAINING Iteration 16, Loss: 0.0960, Acc: 0.9700 (duration: 0.006s)\n",
            "  [*] TRAINING Iteration 17, Loss: 0.0502, Acc: 0.9900 (duration: 0.006s)\n",
            "  [*] TRAINING Iteration 18, Loss: 0.0133, Acc: 1.0000 (duration: 0.006s)\n",
            "  [*] TRAINING Iteration 19, Loss: 0.0273, Acc: 1.0000 (duration: 0.006s)\n",
            "  [*] TRAINING Iteration 20, Loss: 0.0398, Acc: 1.0000 (duration: 0.006s)\n",
            "  [*] VALIDATION ACC: 0.980\n",
            "Optimization done.\n"
          ],
          "name": "stdout"
        }
      ]
    },
    {
      "cell_type": "markdown",
      "metadata": {
        "id": "QE9pfB_EAVsn",
        "colab_type": "text"
      },
      "source": [
        "# 4. Test a model"
      ]
    },
    {
      "cell_type": "markdown",
      "metadata": {
        "id": "If3Ij7YgAVsn",
        "colab_type": "text"
      },
      "source": [
        "### Load the test images and labels"
      ]
    },
    {
      "cell_type": "code",
      "metadata": {
        "id": "J1HEhFSeAVso",
        "colab_type": "code",
        "colab": {
          "base_uri": "https://localhost:8080/",
          "height": 316
        },
        "outputId": "42852b30-0051-452d-ec67-1985353962ab"
      },
      "source": [
        "## READ MNIST INPUTS\n",
        "test_images = mnist.test.images\n",
        "test_labels = mnist.test.labels\n",
        "test_images = test_images.reshape([-1, 28, 28, 1])\n",
        "\n",
        "## Plot the 1st test image and label\n",
        "plt.imshow(test_images[0,:,:,0], cmap='Greys')\n",
        "print(\"\\nOne-hot labels for this image:\")\n",
        "print(test_labels[0])"
      ],
      "execution_count": 15,
      "outputs": [
        {
          "output_type": "stream",
          "text": [
            "\n",
            "One-hot labels for this image:\n",
            "[0. 0. 0. 0. 0. 0. 0. 1. 0. 0.]\n"
          ],
          "name": "stdout"
        },
        {
          "output_type": "display_data",
          "data": {
            "image/png": "[encoded data removed]",
            "text/plain": [
              "<Figure size 432x288 with 1 Axes>"
            ]
          },
          "metadata": {
            "tags": []
          }
        }
      ]
    },
    {
      "cell_type": "markdown",
      "metadata": {
        "id": "fmxjWPZ8AVsp",
        "colab_type": "text"
      },
      "source": [
        "### Check the prediction for the first image"
      ]
    },
    {
      "cell_type": "code",
      "metadata": {
        "id": "JF1SppjaAVsq",
        "colab_type": "code",
        "colab": {
          "base_uri": "https://localhost:8080/",
          "height": 34
        },
        "outputId": "be24f6c6-9a7d-4873-a6e3-683f7308f12b"
      },
      "source": [
        "prediction = sess.run(preds, feed_dict={images: test_images[0,:,:,0].reshape(1,28,28,1), labels: test_labels[0]})\n",
        "\n",
        "print(\"The prediction of the network is: %d\" % np.argmax(prediction))"
      ],
      "execution_count": 16,
      "outputs": [
        {
          "output_type": "stream",
          "text": [
            "The prediction of the network is: 7\n"
          ],
          "name": "stdout"
        }
      ]
    },
    {
      "cell_type": "markdown",
      "metadata": {
        "id": "lUiMs6yrAVst",
        "colab_type": "text"
      },
      "source": [
        "### Average the accuray for test set"
      ]
    },
    {
      "cell_type": "code",
      "metadata": {
        "id": "NAyMOyXtAVst",
        "colab_type": "code",
        "colab": {
          "base_uri": "https://localhost:8080/",
          "height": 34
        },
        "outputId": "45eb47d1-6426-4f0c-9de2-18760838873d"
      },
      "source": [
        "test_acc = accuracy.eval(session=sess, feed_dict={images: test_images, labels: np.argmax(test_labels, axis=1)})\n",
        "print('Acc: %.3f' % test_acc)"
      ],
      "execution_count": 17,
      "outputs": [
        {
          "output_type": "stream",
          "text": [
            "Acc: 0.981\n"
          ],
          "name": "stdout"
        }
      ]
    },
    {
      "cell_type": "markdown",
      "metadata": {
        "id": "3aixLUn2AVs9",
        "colab_type": "text"
      },
      "source": [
        "## Assignment<hr>\n",
        "### 1. A simple network for MNIST\n",
        "Design the following CNN and apply the CNN to the MNIST dataset.</br>\n",
        "\n",
        "<img src=\"img/fig3.png\">\n",
        "\n",
        "***Hint)*** \n",
        "- Elementwise-sum: tf.add() <br/>\n",
        "- Concatenate: tf.concat()\n",
        "\n",
        "\n",
        "### Submission (Due: Nov. 28 Thu.)\n",
        "Compare the results with that of VGGNET and submit your report by Thursday, November 28 to **\"almona@kaist.ac.kr\"**"
      ]
    },
    {
      "cell_type": "code",
      "metadata": {
        "id": "_DxoXO_uAVs-",
        "colab_type": "code",
        "colab": {}
      },
      "source": [
        ""
      ],
      "execution_count": 0,
      "outputs": []
    }
  ]
}